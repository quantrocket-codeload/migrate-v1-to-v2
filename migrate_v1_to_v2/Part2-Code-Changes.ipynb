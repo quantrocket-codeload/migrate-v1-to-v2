{
 "cells": [
  {
   "cell_type": "markdown",
   "metadata": {},
   "source": [
    "<img alt=\"QuantRocket logo\" src=\"https://www.quantrocket.com/assets/img/notebook-header-logo.png\">\n",
    "\n",
    "<a href=\"https://www.quantrocket.com/disclaimer/\">Disclaimer</a>"
   ]
  },
  {
   "cell_type": "markdown",
   "metadata": {},
   "source": [
    "# Code Changes"
   ]
  },
  {
   "cell_type": "markdown",
   "metadata": {},
   "source": [
    "## Backup v1 Code\n",
    "\n",
    "To ensure you can easily revert back to version 1 if needed, first backup your code.\n",
    "\n",
    "### Using Git\n",
    "The recommended approach is to make a version branch of your code. If you're not already using git, see the [usage guide](https://www.quantrocket.com/docs/#push-to-git) to learn how.\n",
    "\n",
    "Assuming you are on the master branch and have committed all of your v1 code, open a terminal and make a v1 branch:\n",
    "\n",
    "```shell\n",
    "git branch v1\n",
    "```\n",
    "\n",
    "At this point, the master branch is still checked out. You can simply continue using the master branch and update the master branch code for version 2. Later, if you need to revert to version 1, simply checkout the `v1` branch. \n",
    "\n",
    "\n",
    "### Using a local backup\n",
    "If you don't want to use Git, you can make a [local backup of codeload](https://www.quantrocket.com/docs/#db-local-backup-and-restore)."
   ]
  },
  {
   "cell_type": "markdown",
   "metadata": {},
   "source": [
    "## Find Deprecated Code \n",
    "\n",
    "You can use the grep commands in this notebook to find deprecated code. However, no replacements will be made. To replace the code, we recommend using the Find and Replace tool in Eclipse Theia. (See this [Stack Overflow answer](https://stackoverflow.com/a/41270417/417414) for documentation of the feature; the answer is written for VS Code but is applicable to Theia since they share the same backend.) When finding and replacing in Theia, you should configure the search parameters to match on case but not to require a whole world match. \n",
    "\n",
    "> TIP: The commands below will also search in notebooks. If you don't want to search in notebooks, add `--exclude='*.ipynb'` to each grep command.\n"
   ]
  },
  {
   "cell_type": "markdown",
   "metadata": {},
   "source": [
    "## Conid -> Sid\n",
    "\n",
    "Replace references to conids with sids, maintaining case. Note that if your code specifies the actual conids, you will need to look up the corresponding sid and replace them. "
   ]
  },
  {
   "cell_type": "code",
   "execution_count": null,
   "metadata": {},
   "outputs": [],
   "source": [
    "# search for CONID (replace with SID)\n",
    "!grep -r --color --exclude-dir='.*' --exclude-dir='__pycache__' --exclude='Part2-Code-Changes.ipynb' 'CONID' /codeload/"
   ]
  },
  {
   "cell_type": "code",
   "execution_count": null,
   "metadata": {},
   "outputs": [],
   "source": [
    "# search for conid (replace with sid)\n",
    "!grep -r --color --exclude-dir='.*' --exclude-dir='__pycache__' --exclude='Part2-Code-Changes.ipynb' 'conid' /codeload/"
   ]
  },
  {
   "cell_type": "code",
   "execution_count": null,
   "metadata": {},
   "outputs": [],
   "source": [
    "# search for ConId (replace with Sid)\n",
    "!grep -r --color --exclude-dir='.*' --exclude-dir='__pycache__' --exclude-dir='migrate_v1_to_v2' --exclude='Part2-Code-Changes.ipynb' 'ConId' /codeload/"
   ]
  },
  {
   "cell_type": "markdown",
   "metadata": {},
   "source": [
    "In version 1, the `BENCHMARK` attribute on Moonshot strategies, if specified, referred to a conid; it should now refer to the corresponding sid:"
   ]
  },
  {
   "cell_type": "code",
   "execution_count": null,
   "metadata": {},
   "outputs": [],
   "source": [
    "# search for BENCHMARK (replace conid with the corresponding sid)\n",
    "!grep -r --color --exclude-dir='.*' --exclude-dir='__pycache__' --exclude='Part2-Code-Changes.ipynb' 'BENCHMARK' /codeload/"
   ]
  },
  {
   "cell_type": "markdown",
   "metadata": {},
   "source": [
    "## Fundamentals\n",
    "\n",
    "### Python API"
   ]
  },
  {
   "cell_type": "code",
   "execution_count": 7,
   "metadata": {},
   "outputs": [],
   "source": [
    "# search for collect_shortable_shares (replace with collect_ibkr_shortable_shares)\n",
    "!grep -r --color --exclude-dir='.*' --exclude-dir='__pycache__' --exclude='Part2-Code-Changes.ipynb' 'collect_shortable_shares' /codeload/\n",
    "\n",
    "# search for download_shortable_shares (replace with download_ibkr_shortable_shares)\n",
    "!grep -r --color --exclude-dir='.*' --exclude-dir='__pycache__' --exclude='Part2-Code-Changes.ipynb' 'download_shortable_shares' /codeload/\n",
    "\n",
    "# search for get_shortable_shares_reindexed_like (replace with get_ibkr_shortable_shares_reindexed_like)\n",
    "!grep -r --color --exclude-dir='.*' --exclude-dir='__pycache__' --exclude='Part2-Code-Changes.ipynb' 'get_shortable_shares_reindexed_like' /codeload/\n",
    "\n",
    "# search for collect_borrow_fees (replace with collect_ibkr_borrow_fees)\n",
    "!grep -r --color --exclude-dir='.*' --exclude-dir='__pycache__' --exclude='Part2-Code-Changes.ipynb' 'collect_borrow_fees' /codeload/\n",
    "\n",
    "# search for download_borrow_fees (replace with download_ibkr_borrow_fees)\n",
    "!grep -r --color --exclude-dir='.*' --exclude-dir='__pycache__' --exclude='Part2-Code-Changes.ipynb' 'download_borrow_fees' /codeload/\n",
    "\n",
    "# search for get_borrow_fees_reindexed_like (replace with get_ibkr_borrow_fees_reindexed_like)\n",
    "!grep -r --color --exclude-dir='.*' --exclude-dir='__pycache__' --exclude='Part2-Code-Changes.ipynb' 'get_borrow_fees_reindexed_like' /codeload/"
   ]
  },
  {
   "cell_type": "markdown",
   "metadata": {},
   "source": [
    "### CLI"
   ]
  },
  {
   "cell_type": "code",
   "execution_count": null,
   "metadata": {},
   "outputs": [],
   "source": [
    "# search for 'quantrocket fundamental collect-financials' (replace with 'quantrocket fundamental collect-reuters-financials')\n",
    "!grep -r --color --exclude-dir='.*' --exclude-dir='__pycache__' --exclude='Part2-Code-Changes.ipynb' 'quantrocket fundamental collect-financials' /codeload/\n",
    "\n",
    "# search for 'quantrocket fundamental collect-estimates' (replace with 'quantrocket fundamental collect-reuters-estimates')\n",
    "!grep -r --color --exclude-dir='.*' --exclude-dir='__pycache__' --exclude='Part2-Code-Changes.ipynb' 'quantrocket fundamental collect-estimates' /codeload/\n",
    "\n",
    "# search for 'quantrocket fundamental collect-shortshares' (replace with 'quantrocket fundamental collect-ibkr-shortshares')\n",
    "!grep -r --color --exclude-dir='.*' --exclude-dir='__pycache__' --exclude='Part2-Code-Changes.ipynb' 'quantrocket fundamental collect-shortshares' /codeload/\n",
    "\n",
    "# search for 'quantrocket fundamental collect-shortfees' (replace with 'quantrocket fundamental collect-ibkr-shortfees')\n",
    "!grep -r --color --exclude-dir='.*' --exclude-dir='__pycache__' --exclude='Part2-Code-Changes.ipynb' 'quantrocket fundamental collect-shortfees' /codeload/\n",
    "\n",
    "# search for 'quantrocket fundamental collect-sharadar' (replace with 'quantrocket fundamental collect-sharadar-fundamentals')\n",
    "!grep -r --color --exclude-dir='.*' --exclude-dir='__pycache__' --exclude='Part2-Code-Changes.ipynb' 'quantrocket fundamental collect-sharadar' /codeload/\n",
    "\n",
    "# search for 'quantrocket fundamental financials' (replace with 'quantrocket fundamental reuters-financials')\n",
    "!grep -r --color --exclude-dir='.*' --exclude-dir='__pycache__' --exclude='Part2-Code-Changes.ipynb' 'quantrocket fundamental financials' /codeload/\n",
    "\n",
    "# search for 'quantrocket fundamental codes' (replace with 'quantrocket fundamental reuters-codes')\n",
    "!grep -r --color --exclude-dir='.*' --exclude-dir='__pycache__' --exclude='Part2-Code-Changes.ipynb' 'quantrocket fundamental codes' /codeload/\n",
    "\n",
    "# search for 'quantrocket fundamental estimates' (replace with 'quantrocket fundamental reuters-estimates')\n",
    "!grep -r --color --exclude-dir='.*' --exclude-dir='__pycache__' --exclude='Part2-Code-Changes.ipynb' 'quantrocket fundamental estimates' /codeload/\n",
    "\n",
    "# search for 'quantrocket fundamental shortshares' (replace with 'quantrocket fundamental ibkr-shortshares')\n",
    "!grep -r --color --exclude-dir='.*' --exclude-dir='__pycache__' --exclude='Part2-Code-Changes.ipynb' 'quantrocket fundamental shortshares' /codeload/\n",
    "\n",
    "# search for 'quantrocket fundamental shortfees' (replace with 'quantrocket fundamental ibkr-shortfees')\n",
    "!grep -r --color --exclude-dir='.*' --exclude-dir='__pycache__' --exclude='Part2-Code-Changes.ipynb' 'quantrocket fundamental shortfees' /codeload/\n",
    "\n",
    "# search for 'quantrocket fundamental sharadar' (replace with 'quantrocket fundamental sharadar-fundamentals')\n",
    "!grep -r --color --exclude-dir='.*' --exclude-dir='__pycache__' --exclude='Part2-Code-Changes.ipynb' 'quantrocket fundamental sharadar' /codeload/"
   ]
  },
  {
   "cell_type": "markdown",
   "metadata": {},
   "source": [
    "## History"
   ]
  },
  {
   "cell_type": "code",
   "execution_count": null,
   "metadata": {},
   "outputs": [],
   "source": [
    "# search for 'quantrocket history create-db' (replace with 'quantrocket history create-ibkr-db')\n",
    "!grep -r --color --exclude-dir='.*' --exclude-dir='__pycache__' --exclude='Part2-Code-Changes.ipynb' 'quantrocket history create-db' /codeload/\n",
    "\n",
    "# search for create_db (replace with create_ibkr_db)\n",
    "!grep -r --color --exclude-dir='.*' --exclude-dir='__pycache__' --exclude='Part2-Code-Changes.ipynb' 'create_db' /codeload/"
   ]
  },
  {
   "cell_type": "markdown",
   "metadata": {},
   "source": [
    "## Launchpad -> IBG\n",
    "\n",
    "The `launchpad` module has been renamed `ibg`."
   ]
  },
  {
   "cell_type": "code",
   "execution_count": null,
   "metadata": {},
   "outputs": [],
   "source": [
    "# search for 'launchpad' (replace with 'ibg')\n",
    "!grep -r --color --exclude-dir='.*' --exclude-dir='__pycache__' --exclude-dir='migrate_v1_to_v2' --exclude='Part2-Code-Changes.ipynb' 'launchpad' /codeload/"
   ]
  },
  {
   "cell_type": "markdown",
   "metadata": {},
   "source": [
    "## Master\n",
    "\n",
    "### Python API"
   ]
  },
  {
   "cell_type": "code",
   "execution_count": null,
   "metadata": {},
   "outputs": [],
   "source": [
    "# search for 'collect_listings' (replace with 'collect_ibkr_listings')\n",
    "!grep -r --color --exclude-dir='.*' --exclude-dir='__pycache__' --exclude='Part2-Code-Changes.ipynb' 'collect_listings' /codeload/\n",
    "\n",
    "# search for 'collect_option_chains' (replace with 'collect_ibkr_option_chains')\n",
    "!grep -r --color --exclude-dir='.*' --exclude-dir='__pycache__' --exclude='Part2-Code-Changes.ipynb' 'collect_option_chains' /codeload/\n",
    "\n",
    "# search for 'diff_securities' (replace with 'diff_ibkr_securities')\n",
    "!grep -r --color --exclude-dir='.*' --exclude-dir='__pycache__' --exclude='Part2-Code-Changes.ipynb' 'diff_securities' /codeload/\n",
    "\n",
    "# search for 'delist_security' (replace with 'delist_ibkr_security')\n",
    "!grep -r --color --exclude-dir='.*' --exclude-dir='__pycache__' --exclude='Part2-Code-Changes.ipynb' 'delist_security' /codeload/\n",
    "\n",
    "# search for 'create_combo' (replace with 'create_ibkr_combo')\n",
    "!grep -r --color --exclude-dir='.*' --exclude-dir='__pycache__' --exclude='Part2-Code-Changes.ipynb' 'create_combo' /codeload/\n",
    "\n",
    "# search for 'collect_calendar' (replace with 'collect_ibkr_calendar')\n",
    "!grep -r --color --exclude-dir='.*' --exclude-dir='__pycache__' --exclude='Part2-Code-Changes.ipynb' 'collect_calendar' /codeload/"
   ]
  },
  {
   "cell_type": "markdown",
   "metadata": {},
   "source": [
    "### CLI"
   ]
  },
  {
   "cell_type": "code",
   "execution_count": null,
   "metadata": {},
   "outputs": [],
   "source": [
    "# search for 'quantrocket master exchanges' (replace with 'quantrocket master list-ibkr-exchanges')\n",
    "!grep -r --color --exclude-dir='.*' --exclude-dir='__pycache__' --exclude='Part2-Code-Changes.ipynb' 'quantrocket master exchanges' /codeload/\n",
    "\n",
    "# search for 'quantrocket master collect' (replace with 'quantrocket master collect-ibkr')\n",
    "!grep -r --color --exclude-dir='.*' --exclude-dir='__pycache__' --exclude='Part2-Code-Changes.ipynb' 'quantrocket master collect' /codeload/\n",
    "\n",
    "# search for 'quantrocket master options' (replace with 'quantrocket master collect-ibkr-options')\n",
    "!grep -r --color --exclude-dir='.*' --exclude-dir='__pycache__' --exclude='Part2-Code-Changes.ipynb' 'quantrocket master options' /codeload/\n",
    "\n",
    "# search for 'quantrocket master diff' (replace with 'quantrocket master diff-ibkr')\n",
    "!grep -r --color --exclude-dir='.*' --exclude-dir='__pycache__' --exclude='Part2-Code-Changes.ipynb' 'quantrocket master diff' /codeload/\n",
    "\n",
    "# search for 'quantrocket master delist' (replace with 'quantrocket master delist-ibkr')\n",
    "!grep -r --color --exclude-dir='.*' --exclude-dir='__pycache__' --exclude='Part2-Code-Changes.ipynb' 'quantrocket master delist' /codeload/\n",
    "\n",
    "# search for 'quantrocket master create-combo' (replace with 'quantrocket master create-ibkr-combo')\n",
    "!grep -r --color --exclude-dir='.*' --exclude-dir='__pycache__' --exclude='Part2-Code-Changes.ipynb' 'quantrocket master create-combo' /codeload/\n",
    "\n",
    "# search for 'quantrocket master collect-calendar' (replace with 'quantrocket master collect-ibkr-calendar')\n",
    "!grep -r --color --exclude-dir='.*' --exclude-dir='__pycache__' --exclude='Part2-Code-Changes.ipynb' 'quantrocket master collect-calendar' /codeload/"
   ]
  },
  {
   "cell_type": "markdown",
   "metadata": {},
   "source": [
    "### Domains\n",
    "The \"domain\" concept is eliminated:"
   ]
  },
  {
   "cell_type": "code",
   "execution_count": null,
   "metadata": {},
   "outputs": [],
   "source": [
    "# search for 'domain' (remove entirely)\n",
    "!grep -r --color --exclude-dir='.*' --exclude-dir='__pycache__' --exclude='Part2-Code-Changes.ipynb' 'domain' /codeload/"
   ]
  },
  {
   "cell_type": "markdown",
   "metadata": {},
   "source": [
    "## Realtime"
   ]
  },
  {
   "cell_type": "code",
   "execution_count": 24,
   "metadata": {},
   "outputs": [],
   "source": [
    "# search for 'quantrocket realtime create-tick-db' (replace with 'quantrocket realtime create-ibkr-tick-db')\n",
    "!grep -r --color --exclude-dir='.*' --exclude-dir='__pycache__' --exclude='Part2-Code-Changes.ipynb' 'quantrocket realtime create-tick-db' /codeload/\n",
    "\n",
    "# search for create_tick_db (replace with create_ibkr_tick_db)\n",
    "!grep -r --color --exclude-dir='.*' --exclude-dir='__pycache__' --exclude='Part2-Code-Changes.ipynb' 'create_tick_db' /codeload/"
   ]
  },
  {
   "cell_type": "markdown",
   "metadata": {},
   "source": [
    "## Zipline\n",
    "\n",
    "### Python API"
   ]
  },
  {
   "cell_type": "code",
   "execution_count": 26,
   "metadata": {},
   "outputs": [],
   "source": [
    "# search for 'run_algorithm' (replace with 'backtest')\n",
    "!grep -r --color --exclude-dir='.*' --exclude-dir='__pycache__' --exclude='Part2-Code-Changes.ipynb' 'run_algorithm' /codeload/\n",
    "\n",
    "# search for 'ingest_bundle' (replace with 'ingest_bundle' (see Zipline usage guide))\n",
    "!grep -r --color --exclude-dir='.*' --exclude-dir='__pycache__' --exclude='Part2-Code-Changes.ipynb' 'ingest_bundle' /codeload/\n",
    "\n",
    "# search for 'clean_bundles' (replace with 'drop_bundle')\n",
    "!grep -r --color --exclude-dir='.*' --exclude-dir='__pycache__' --exclude='Part2-Code-Changes.ipynb' 'clean_bundles' /codeload/"
   ]
  },
  {
   "cell_type": "markdown",
   "metadata": {},
   "source": [
    "### CLI"
   ]
  },
  {
   "cell_type": "code",
   "execution_count": 25,
   "metadata": {},
   "outputs": [],
   "source": [
    "# search for 'quantrocket zipline run' (replace with 'quantrocket zipline backtest')\n",
    "!grep -r --color --exclude-dir='.*' --exclude-dir='__pycache__' --exclude='Part2-Code-Changes.ipynb' 'quantrocket zipline run' /codeload/\n",
    "\n",
    "# search for 'quantrocket zipline ingest' (replace with 'quantrocket zipline create-db-bundle' and 'quantrocket zipline ingest' (see Zipline usage guide))\n",
    "!grep -r --color --exclude-dir='.*' --exclude-dir='__pycache__' --exclude='Part2-Code-Changes.ipynb' 'quantrocket zipline ingest' /codeload/\n",
    "\n",
    "# search for 'quantrocket zipline bundles' (replace with 'quantrocket zipline list-bundles')\n",
    "!grep -r --color --exclude-dir='.*' --exclude-dir='__pycache__' --exclude='Part2-Code-Changes.ipynb' 'quantrocket zipline bundles' /codeload/\n",
    "\n",
    "# search for 'quantrocket zipline clean' (replace with 'quantrocket zipline drop-bundle')\n",
    "!grep -r --color --exclude-dir='.*' --exclude-dir='__pycache__' --exclude='Part2-Code-Changes.ipynb' 'quantrocket zipline clean' /codeload/"
   ]
  },
  {
   "cell_type": "markdown",
   "metadata": {},
   "source": [
    "***\n",
    "\n",
    "[Back to Introduction](Introduction.ipynb)"
   ]
  }
 ],
 "metadata": {
  "kernelspec": {
   "display_name": "Python 3",
   "language": "python",
   "name": "python3"
  },
  "language_info": {
   "codemirror_mode": {
    "name": "ipython",
    "version": 3
   },
   "file_extension": ".py",
   "mimetype": "text/x-python",
   "name": "python",
   "nbconvert_exporter": "python",
   "pygments_lexer": "ipython3",
   "version": "3.6.6"
  }
 },
 "nbformat": 4,
 "nbformat_minor": 4
}
