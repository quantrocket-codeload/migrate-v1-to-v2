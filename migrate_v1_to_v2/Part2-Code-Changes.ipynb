{
 "cells": [
  {
   "cell_type": "markdown",
   "metadata": {},
   "source": [
    "<img alt=\"QuantRocket logo\" src=\"https://www.quantrocket.com/assets/img/notebook-header-logo.png\">\n",
    "\n",
    "<a href=\"https://www.quantrocket.com/disclaimer/\">Disclaimer</a>"
   ]
  },
  {
   "cell_type": "markdown",
   "metadata": {},
   "source": [
    "# Code Changes"
   ]
  },
  {
   "cell_type": "markdown",
   "metadata": {},
   "source": [
    "## Backup v1 Code\n",
    "\n",
    "To ensure you can easily revert back to version 1 if needed, first backup your code.\n",
    "\n",
    "### Using Git\n",
    "The recommended approach is to make a version branch of your code. If you're not already using git, see the [usage guide](https://www.quantrocket.com/docs/#push-to-git) to learn how.\n",
    "\n",
    "Assuming you are on the master branch and have committed all of your v1 code, open a terminal and make a v1 branch:\n",
    "\n",
    "```shell\n",
    "git branch v1\n",
    "```\n",
    "\n",
    "At this point, the master branch is still checked out. You can simply continue using the master branch and update the master branch code for version 2. Later, if you need to revert to version 1, simply checkout the `v1` branch. \n",
    "\n",
    "\n",
    "### Using a local backup\n",
    "If you don't want to use Git, you can make a [local backup of codeload](https://www.quantrocket.com/docs/#db-local-backup-and-restore)."
   ]
  },
  {
   "cell_type": "markdown",
   "metadata": {},
   "source": [
    "## Find Deprecated Code \n",
    "\n",
    "You can use the grep commands in this notebook to find deprecated code. However, no replacements will be made. To replace the code, we recommend using the Find and Replace tool in Eclipse Theia. (See this [Stack Overflow answer](https://stackoverflow.com/a/41270417/417414) for documentation of the feature; the answer is written for VS Code but is applicable to Theia since they share the same backend.) When finding and replacing in Theia, you should configure the search parameters to match on case but not to require a whole world match. \n",
    "\n",
    "> TIP: The commands below will also search in notebooks. If you don't want to search in notebooks, add `--exclude='*.ipynb'` to each grep command.\n"
   ]
  },
  {
   "cell_type": "markdown",
   "metadata": {},
   "source": [
    "## Conid -> Sid\n",
    "\n",
    "Replace references to conids with sids, maintaining case. Note that if your code specifies the actual conids, you will need to look up the corresponding sid and replace them. "
   ]
  },
  {
   "cell_type": "code",
   "execution_count": null,
   "metadata": {},
   "outputs": [],
   "source": [
    "# search for CONID (replace with SID)\n",
    "!grep -r --color --exclude-dir='.*' --exclude-dir='__pycache__' --exclude-dir='migrate_v1_to_v2' 'CONID' /codeload/"
   ]
  },
  {
   "cell_type": "code",
   "execution_count": null,
   "metadata": {},
   "outputs": [],
   "source": [
    "# search for conid (replace with sid)\n",
    "!grep -r --color --exclude-dir='.*' --exclude-dir='__pycache__' --exclude-dir='migrate_v1_to_v2' 'conid' /codeload/"
   ]
  },
  {
   "cell_type": "code",
   "execution_count": null,
   "metadata": {},
   "outputs": [],
   "source": [
    "# search for ConId (replace with Sid)\n",
    "!grep -r --color --exclude-dir='.*' --exclude-dir='__pycache__' --exclude-dir='migrate_v1_to_v2' 'ConId' /codeload/"
   ]
  },
  {
   "cell_type": "markdown",
   "metadata": {},
   "source": [
    "In version 1, the `BENCHMARK` attribute on Moonshot strategies, if specified, referred to a conid; it should now refer to the corresponding sid:"
   ]
  },
  {
   "cell_type": "code",
   "execution_count": null,
   "metadata": {},
   "outputs": [],
   "source": [
    "# search for BENCHMARK (replace conid with the corresponding sid)\n",
    "!grep -r --color --exclude-dir='.*' --exclude-dir='__pycache__' --exclude-dir='migrate_v1_to_v2' 'BENCHMARK' /codeload/"
   ]
  },
  {
   "cell_type": "markdown",
   "metadata": {},
   "source": [
    "## Fundamentals\n",
    "\n",
    "### Python API"
   ]
  },
  {
   "cell_type": "code",
   "execution_count": 7,
   "metadata": {},
   "outputs": [],
   "source": [
    "# search for collect_shortable_shares (replace with collect_ibkr_shortable_shares)\n",
    "!grep -r --color --exclude-dir='.*' --exclude-dir='__pycache__' --exclude-dir='migrate_v1_to_v2' 'collect_shortable_shares' /codeload/\n",
    "\n",
    "# search for download_shortable_shares (replace with download_ibkr_shortable_shares)\n",
    "!grep -r --color --exclude-dir='.*' --exclude-dir='__pycache__' --exclude-dir='migrate_v1_to_v2' 'download_shortable_shares' /codeload/\n",
    "\n",
    "# search for get_shortable_shares_reindexed_like (replace with get_ibkr_shortable_shares_reindexed_like)\n",
    "!grep -r --color --exclude-dir='.*' --exclude-dir='__pycache__' --exclude-dir='migrate_v1_to_v2' 'get_shortable_shares_reindexed_like' /codeload/\n",
    "\n",
    "# search for collect_borrow_fees (replace with collect_ibkr_borrow_fees)\n",
    "!grep -r --color --exclude-dir='.*' --exclude-dir='__pycache__' --exclude-dir='migrate_v1_to_v2' 'collect_borrow_fees' /codeload/\n",
    "\n",
    "# search for download_borrow_fees (replace with download_ibkr_borrow_fees)\n",
    "!grep -r --color --exclude-dir='.*' --exclude-dir='__pycache__' --exclude-dir='migrate_v1_to_v2' 'download_borrow_fees' /codeload/\n",
    "\n",
    "# search for get_borrow_fees_reindexed_like (replace with get_ibkr_borrow_fees_reindexed_like)\n",
    "!grep -r --color --exclude-dir='.*' --exclude-dir='__pycache__' --exclude-dir='migrate_v1_to_v2' 'get_borrow_fees_reindexed_like' /codeload/"
   ]
  },
  {
   "cell_type": "markdown",
   "metadata": {},
   "source": [
    "### CLI"
   ]
  },
  {
   "cell_type": "code",
   "execution_count": null,
   "metadata": {},
   "outputs": [],
   "source": [
    "# search for 'quantrocket fundamental collect-financials' (replace with 'quantrocket fundamental collect-reuters-financials')\n",
    "!grep -r --color --exclude-dir='.*' --exclude-dir='__pycache__' --exclude-dir='migrate_v1_to_v2' 'quantrocket fundamental collect-financials' /codeload/\n",
    "\n",
    "# search for 'quantrocket fundamental collect-estimates' (replace with 'quantrocket fundamental collect-reuters-estimates')\n",
    "!grep -r --color --exclude-dir='.*' --exclude-dir='__pycache__' --exclude-dir='migrate_v1_to_v2' 'quantrocket fundamental collect-estimates' /codeload/\n",
    "\n",
    "# search for 'quantrocket fundamental collect-shortshares' (replace with 'quantrocket fundamental collect-ibkr-shortshares')\n",
    "!grep -r --color --exclude-dir='.*' --exclude-dir='__pycache__' --exclude-dir='migrate_v1_to_v2' 'quantrocket fundamental collect-shortshares' /codeload/\n",
    "\n",
    "# search for 'quantrocket fundamental collect-shortfees' (replace with 'quantrocket fundamental collect-ibkr-shortfees')\n",
    "!grep -r --color --exclude-dir='.*' --exclude-dir='__pycache__' --exclude-dir='migrate_v1_to_v2' 'quantrocket fundamental collect-shortfees' /codeload/\n",
    "\n",
    "# search for 'quantrocket fundamental collect-sharadar' (replace with 'quantrocket fundamental collect-sharadar-fundamentals')\n",
    "!grep -r --color --exclude-dir='.*' --exclude-dir='__pycache__' --exclude-dir='migrate_v1_to_v2' 'quantrocket fundamental collect-sharadar' /codeload/\n",
    "\n",
    "# search for 'quantrocket fundamental financials' (replace with 'quantrocket fundamental reuters-financials')\n",
    "!grep -r --color --exclude-dir='.*' --exclude-dir='__pycache__' --exclude-dir='migrate_v1_to_v2' 'quantrocket fundamental financials' /codeload/\n",
    "\n",
    "# search for 'quantrocket fundamental codes' (replace with 'quantrocket fundamental reuters-codes')\n",
    "!grep -r --color --exclude-dir='.*' --exclude-dir='__pycache__' --exclude-dir='migrate_v1_to_v2' 'quantrocket fundamental codes' /codeload/\n",
    "\n",
    "# search for 'quantrocket fundamental estimates' (replace with 'quantrocket fundamental reuters-estimates')\n",
    "!grep -r --color --exclude-dir='.*' --exclude-dir='__pycache__' --exclude-dir='migrate_v1_to_v2' 'quantrocket fundamental estimates' /codeload/\n",
    "\n",
    "# search for 'quantrocket fundamental shortshares' (replace with 'quantrocket fundamental ibkr-shortshares')\n",
    "!grep -r --color --exclude-dir='.*' --exclude-dir='__pycache__' --exclude-dir='migrate_v1_to_v2' 'quantrocket fundamental shortshares' /codeload/\n",
    "\n",
    "# search for 'quantrocket fundamental shortfees' (replace with 'quantrocket fundamental ibkr-shortfees')\n",
    "!grep -r --color --exclude-dir='.*' --exclude-dir='__pycache__' --exclude-dir='migrate_v1_to_v2' 'quantrocket fundamental shortfees' /codeload/\n",
    "\n",
    "# search for 'quantrocket fundamental sharadar' (replace with 'quantrocket fundamental sharadar-fundamentals')\n",
    "!grep -r --color --exclude-dir='.*' --exclude-dir='__pycache__' --exclude-dir='migrate_v1_to_v2' 'quantrocket fundamental sharadar' /codeload/"
   ]
  },
  {
   "cell_type": "markdown",
   "metadata": {},
   "source": [
    "## History"
   ]
  },
  {
   "cell_type": "code",
   "execution_count": null,
   "metadata": {},
   "outputs": [],
   "source": [
    "# search for 'quantrocket history create-db' (replace with 'quantrocket history create-ibkr-db')\n",
    "!grep -r --color --exclude-dir='.*' --exclude-dir='__pycache__' --exclude-dir='migrate_v1_to_v2' 'quantrocket history create-db' /codeload/\n",
    "\n",
    "# search for create_db (replace with create_ibkr_db)\n",
    "!grep -r --color --exclude-dir='.*' --exclude-dir='__pycache__' --exclude-dir='migrate_v1_to_v2' 'create_db' /codeload/"
   ]
  },
  {
   "cell_type": "markdown",
   "metadata": {},
   "source": [
    "## Launchpad -> IBG\n",
    "\n",
    "The `launchpad` module has been renamed `ibg`."
   ]
  },
  {
   "cell_type": "code",
   "execution_count": null,
   "metadata": {},
   "outputs": [],
   "source": [
    "# search for 'launchpad' (replace with 'ibg')\n",
    "!grep -r --color --exclude-dir='.*' --exclude-dir='__pycache__' --exclude-dir='migrate_v1_to_v2' 'launchpad' /codeload/"
   ]
  },
  {
   "cell_type": "markdown",
   "metadata": {},
   "source": [
    "If you have a IB Gateway permissions file called `quantrocket.launchpad.permissions.yml`, rename it to `quantrocket.ibg.permissions.yml`: "
   ]
  },
  {
   "cell_type": "code",
   "execution_count": 1,
   "metadata": {},
   "outputs": [],
   "source": [
    "![ -f /codeload/quantrocket.launchpad.permissions.yml ] && git mv /codeload/quantrocket.launchpad.permissions.yml /codeload/quantrocket.ibg.permissions.yml "
   ]
  },
  {
   "cell_type": "markdown",
   "metadata": {},
   "source": [
    "## Master\n",
    "\n",
    "### Python API"
   ]
  },
  {
   "cell_type": "code",
   "execution_count": null,
   "metadata": {},
   "outputs": [],
   "source": [
    "# search for 'collect_listings' (replace with 'collect_ibkr_listings')\n",
    "!grep -r --color --exclude-dir='.*' --exclude-dir='__pycache__' --exclude-dir='migrate_v1_to_v2' 'collect_listings' /codeload/\n",
    "\n",
    "# search for 'collect_option_chains' (replace with 'collect_ibkr_option_chains')\n",
    "!grep -r --color --exclude-dir='.*' --exclude-dir='__pycache__' --exclude-dir='migrate_v1_to_v2' 'collect_option_chains' /codeload/\n",
    "\n",
    "# search for 'diff_securities' (replace with 'diff_ibkr_securities')\n",
    "!grep -r --color --exclude-dir='.*' --exclude-dir='__pycache__' --exclude-dir='migrate_v1_to_v2' 'diff_securities' /codeload/\n",
    "\n",
    "# search for 'delist_security' (replace with 'delist_ibkr_security')\n",
    "!grep -r --color --exclude-dir='.*' --exclude-dir='__pycache__' --exclude-dir='migrate_v1_to_v2' 'delist_security' /codeload/\n",
    "\n",
    "# search for 'create_combo' (replace with 'create_ibkr_combo')\n",
    "!grep -r --color --exclude-dir='.*' --exclude-dir='__pycache__' --exclude-dir='migrate_v1_to_v2' 'create_combo' /codeload/\n",
    "\n",
    "# search for 'collect_calendar' (replace with 'collect_ibkr_calendar')\n",
    "!grep -r --color --exclude-dir='.*' --exclude-dir='__pycache__' --exclude-dir='migrate_v1_to_v2' 'collect_calendar' /codeload/"
   ]
  },
  {
   "cell_type": "markdown",
   "metadata": {},
   "source": [
    "### CLI"
   ]
  },
  {
   "cell_type": "code",
   "execution_count": null,
   "metadata": {},
   "outputs": [],
   "source": [
    "# search for 'quantrocket master exchanges' (replace with 'quantrocket master list-ibkr-exchanges')\n",
    "!grep -r --color --exclude-dir='.*' --exclude-dir='__pycache__' --exclude-dir='migrate_v1_to_v2' 'quantrocket master exchanges' /codeload/\n",
    "\n",
    "# search for 'quantrocket master collect' (replace with 'quantrocket master collect-ibkr')\n",
    "!grep -r --color --exclude-dir='.*' --exclude-dir='__pycache__' --exclude-dir='migrate_v1_to_v2' 'quantrocket master collect' /codeload/\n",
    "\n",
    "# search for 'quantrocket master options' (replace with 'quantrocket master collect-ibkr-options')\n",
    "!grep -r --color --exclude-dir='.*' --exclude-dir='__pycache__' --exclude-dir='migrate_v1_to_v2' 'quantrocket master options' /codeload/\n",
    "\n",
    "# search for 'quantrocket master diff' (replace with 'quantrocket master diff-ibkr')\n",
    "!grep -r --color --exclude-dir='.*' --exclude-dir='__pycache__' --exclude-dir='migrate_v1_to_v2' 'quantrocket master diff' /codeload/\n",
    "\n",
    "# search for 'quantrocket master delist' (replace with 'quantrocket master delist-ibkr')\n",
    "!grep -r --color --exclude-dir='.*' --exclude-dir='__pycache__' --exclude-dir='migrate_v1_to_v2' 'quantrocket master delist' /codeload/\n",
    "\n",
    "# search for 'quantrocket master create-combo' (replace with 'quantrocket master create-ibkr-combo')\n",
    "!grep -r --color --exclude-dir='.*' --exclude-dir='__pycache__' --exclude-dir='migrate_v1_to_v2' 'quantrocket master create-combo' /codeload/\n",
    "\n",
    "# search for 'quantrocket master collect-calendar' (replace with 'quantrocket master collect-ibkr-calendar')\n",
    "!grep -r --color --exclude-dir='.*' --exclude-dir='__pycache__' --exclude-dir='migrate_v1_to_v2' 'quantrocket master collect-calendar' /codeload/"
   ]
  },
  {
   "cell_type": "markdown",
   "metadata": {},
   "source": [
    "### Domains\n",
    "The \"domain\" concept is eliminated:"
   ]
  },
  {
   "cell_type": "code",
   "execution_count": null,
   "metadata": {},
   "outputs": [],
   "source": [
    "# search for 'domain' (remove entirely)\n",
    "!grep -r --color --exclude-dir='.*' --exclude-dir='__pycache__' --exclude-dir='migrate_v1_to_v2' 'domain' /codeload/"
   ]
  },
  {
   "cell_type": "markdown",
   "metadata": {},
   "source": [
    "### Master fields\n",
    "\n",
    "Many IBKR-specific fields are now prefixed with `ibkr_`"
   ]
  },
  {
   "cell_type": "code",
   "execution_count": null,
   "metadata": {},
   "outputs": [],
   "source": [
    "# search for PrimaryExchange (replace with ibkr_PrimaryExchange)\n",
    "!grep -r --color --exclude-dir='.*' --exclude-dir='__pycache__' --exclude-dir='migrate_v1_to_v2' 'PrimaryExchange' /codeload/\n",
    "\n",
    "# search for TradingClass (replace with ibkr_TradingClass)\n",
    "!grep -r --color --exclude-dir='.*' --exclude-dir='__pycache__' --exclude-dir='migrate_v1_to_v2' 'TradingClass' /codeload/\n",
    "\n",
    "# search for MarketName (replace with ibkr_MarketName)\n",
    "!grep -r --color --exclude-dir='.*' --exclude-dir='__pycache__' --exclude-dir='migrate_v1_to_v2' 'MarketName' /codeload/\n",
    "\n",
    "# search for LongName (replace with ibkr_LongName)\n",
    "!grep -r --color --exclude-dir='.*' --exclude-dir='__pycache__' --exclude-dir='migrate_v1_to_v2' 'LongName' /codeload/\n",
    "\n",
    "# search for ValidExchanges (replace with ibkr_ValidExchanges)\n",
    "!grep -r --color --exclude-dir='.*' --exclude-dir='__pycache__' --exclude-dir='migrate_v1_to_v2' 'ValidExchanges' /codeload/\n",
    "\n",
    "# search for AggGroup (replace with ibkr_AggGroup)\n",
    "!grep -r --color --exclude-dir='.*' --exclude-dir='__pycache__' --exclude-dir='migrate_v1_to_v2' 'AggGroup' /codeload/\n",
    "\n",
    "# search for Sector (replace with ibkr_Sector)\n",
    "!grep -r --color --exclude-dir='.*' --exclude-dir='__pycache__' --exclude-dir='migrate_v1_to_v2' 'Sector' /codeload/\n",
    "\n",
    "# search for Industry (replace with ibkr_Industry)\n",
    "!grep -r --color --exclude-dir='.*' --exclude-dir='__pycache__' --exclude-dir='migrate_v1_to_v2' 'Industry' /codeload/\n",
    "\n",
    "# search for Category (replace with ibkr_Category)\n",
    "!grep -r --color --exclude-dir='.*' --exclude-dir='__pycache__' --exclude-dir='migrate_v1_to_v2' 'Category' /codeload/\n",
    "\n",
    "# search for MinTick (replace with ibkr_MinTick)\n",
    "!grep -r --color --exclude-dir='.*' --exclude-dir='__pycache__' --exclude-dir='migrate_v1_to_v2' 'MinTick' /codeload/\n",
    "\n",
    "# search for MdSizeMultiplier (replace with ibkr_MdSizeMultiplier)\n",
    "!grep -r --color --exclude-dir='.*' --exclude-dir='__pycache__' --exclude-dir='migrate_v1_to_v2' 'MdSizeMultiplier' /codeload/\n",
    "\n",
    "# search for ContractMonth (replace with ibkr_ContractMonth)\n",
    "!grep -r --color --exclude-dir='.*' --exclude-dir='__pycache__' --exclude-dir='migrate_v1_to_v2' 'ContractMonth' /codeload/\n",
    "\n",
    "# search for RealExpirationDate (replace with ibkr_RealExpirationDate)\n",
    "!grep -r --color --exclude-dir='.*' --exclude-dir='__pycache__' --exclude-dir='migrate_v1_to_v2' 'RealExpirationDate' /codeload/\n",
    "\n",
    "# search for UnderConId (replace with ibkr_UnderConId)\n",
    "!grep -r --color --exclude-dir='.*' --exclude-dir='__pycache__' --exclude-dir='migrate_v1_to_v2' 'UnderConId' /codeload/\n",
    "\n",
    "# search for UnderSymbol (replace with ibkr_UnderSymbol)\n",
    "!grep -r --color --exclude-dir='.*' --exclude-dir='__pycache__' --exclude-dir='migrate_v1_to_v2' 'UnderSymbol' /codeload/\n",
    "\n",
    "# search for UnderSecType (replace with ibkr_UnderSecType)\n",
    "!grep -r --color --exclude-dir='.*' --exclude-dir='__pycache__' --exclude-dir='migrate_v1_to_v2' 'UnderSecType' /codeload/\n",
    "\n",
    "# search for MarketRuleIds (replace with ibkr_MarketRuleIds)\n",
    "!grep -r --color --exclude-dir='.*' --exclude-dir='__pycache__' --exclude-dir='migrate_v1_to_v2' 'MarketRuleIds' /codeload/\n",
    "\n",
    "# search for Strike (replace with ibkr_Strike)\n",
    "!grep -r --color --exclude-dir='.*' --exclude-dir='__pycache__' --exclude-dir='migrate_v1_to_v2' 'Strike' /codeload/\n",
    "\n",
    "# search for Right (replace with ibkr_Right)\n",
    "!grep -r --color --exclude-dir='.*' --exclude-dir='__pycache__' --exclude-dir='migrate_v1_to_v2' 'Right' /codeload/\n",
    "\n",
    "# search for ComboLegs (replace with ibkr_ComboLegs)\n",
    "!grep -r --color --exclude-dir='.*' --exclude-dir='__pycache__' --exclude-dir='migrate_v1_to_v2' 'ComboLegs' /codeload/\n",
    "\n",
    "# search for EvRule (replace with ibkr_EvRule)\n",
    "!grep -r --color --exclude-dir='.*' --exclude-dir='__pycache__' --exclude-dir='migrate_v1_to_v2' 'EvRule' /codeload/\n",
    "\n",
    "# search for EvMultiplier (replace with ibkr_EvMultiplier)\n",
    "!grep -r --color --exclude-dir='.*' --exclude-dir='__pycache__' --exclude-dir='migrate_v1_to_v2' 'EvMultiplier' /codeload/"
   ]
  },
  {
   "cell_type": "markdown",
   "metadata": {},
   "source": [
    "In most cases, references to `ConId` should be replaced with `Sid`. An exception is the v1 documented command to run a diff on the `ConId` field to identify securities that have been removed from IBKR's system. That command might have looked like this: \n",
    "\n",
    "```shell\n",
    "quantrocket master diff --universes 'usa-stk' --fields 'ConId' --delist-missing --delist-exchanges 'VALUE'\n",
    "```\n",
    "\n",
    "In this case, replace `ConId` with `ibkr_ConId`."
   ]
  },
  {
   "cell_type": "markdown",
   "metadata": {},
   "source": [
    "In version 2, `Symbol` for IBKR securities returns the v1 `LocalSymbol` field if available, otherwise the v1 `Symbol` field. The v1 `Symbol` and `LocalSymbol` fields were usually identical for stocks but for futures `LocalSymbol` is more specific. To preserve v1 functionality, perform the following replacements: "
   ]
  },
  {
   "cell_type": "code",
   "execution_count": null,
   "metadata": {},
   "outputs": [],
   "source": [
    "# search for Symbol (replace with ibkr_Symbol)\n",
    "!grep -r --color --exclude-dir='.*' --exclude-dir='__pycache__' --exclude-dir='migrate_v1_to_v2' 'Symbol' /codeload/\n",
    "\n",
    "# search for LocalSymbol (replace with ibkr_LocalSymbol)\n",
    "!grep -r --color --exclude-dir='.*' --exclude-dir='__pycache__' --exclude-dir='migrate_v1_to_v2' 'LocalSymbol' /codeload/"
   ]
  },
  {
   "cell_type": "markdown",
   "metadata": {},
   "source": [
    "In v1, ISINs were stored in the `Cusip` field with a prefix of \"ISIN:\". Now they are stored in the `ibkr_Isin` field, without any prefix."
   ]
  },
  {
   "cell_type": "code",
   "execution_count": null,
   "metadata": {},
   "outputs": [],
   "source": [
    "# search for Cusip (replace with ibkr_Isin and remove any \"ISIN:\" prefix)\n",
    "!grep -r --color --exclude-dir='.*' --exclude-dir='__pycache__' --exclude-dir='migrate_v1_to_v2' 'Cusip' /codeload/"
   ]
  },
  {
   "cell_type": "markdown",
   "metadata": {},
   "source": [
    "## Moonshot "
   ]
  },
  {
   "cell_type": "code",
   "execution_count": null,
   "metadata": {},
   "outputs": [],
   "source": [
    "# search for BorrowFees (replace with IBKRBorrowFees)\n",
    "!grep -r --color --exclude-dir='.*' --exclude-dir='__pycache__' --exclude='Part2-Code-Changes.ipynb' 'BorrowFees' /codeload/"
   ]
  },
  {
   "cell_type": "markdown",
   "metadata": {},
   "source": [
    "## Realtime"
   ]
  },
  {
   "cell_type": "code",
   "execution_count": 24,
   "metadata": {},
   "outputs": [],
   "source": [
    "# search for 'quantrocket realtime create-tick-db' (replace with 'quantrocket realtime create-ibkr-tick-db')\n",
    "!grep -r --color --exclude-dir='.*' --exclude-dir='__pycache__' --exclude-dir='migrate_v1_to_v2' 'quantrocket realtime create-tick-db' /codeload/\n",
    "\n",
    "# search for create_tick_db (replace with create_ibkr_tick_db)\n",
    "!grep -r --color --exclude-dir='.*' --exclude-dir='__pycache__' --exclude-dir='migrate_v1_to_v2' 'create_tick_db' /codeload/"
   ]
  },
  {
   "cell_type": "markdown",
   "metadata": {},
   "source": [
    "## Zipline\n",
    "\n",
    "### Python API"
   ]
  },
  {
   "cell_type": "code",
   "execution_count": 26,
   "metadata": {},
   "outputs": [],
   "source": [
    "# search for 'run_algorithm' (replace with 'backtest')\n",
    "!grep -r --color --exclude-dir='.*' --exclude-dir='__pycache__' --exclude-dir='migrate_v1_to_v2' 'run_algorithm' /codeload/\n",
    "\n",
    "# search for 'ingest_bundle' (replace with 'ingest_bundle' (see Zipline usage guide))\n",
    "!grep -r --color --exclude-dir='.*' --exclude-dir='__pycache__' --exclude-dir='migrate_v1_to_v2' 'ingest_bundle' /codeload/\n",
    "\n",
    "# search for 'clean_bundles' (replace with 'drop_bundle')\n",
    "!grep -r --color --exclude-dir='.*' --exclude-dir='__pycache__' --exclude-dir='migrate_v1_to_v2' 'clean_bundles' /codeload/"
   ]
  },
  {
   "cell_type": "markdown",
   "metadata": {},
   "source": [
    "### CLI"
   ]
  },
  {
   "cell_type": "code",
   "execution_count": 25,
   "metadata": {},
   "outputs": [],
   "source": [
    "# search for 'quantrocket zipline run' (replace with 'quantrocket zipline backtest')\n",
    "!grep -r --color --exclude-dir='.*' --exclude-dir='__pycache__' --exclude-dir='migrate_v1_to_v2' 'quantrocket zipline run' /codeload/\n",
    "\n",
    "# search for 'quantrocket zipline ingest' (replace with 'quantrocket zipline create-db-bundle' and 'quantrocket zipline ingest' (see Zipline usage guide))\n",
    "!grep -r --color --exclude-dir='.*' --exclude-dir='__pycache__' --exclude-dir='migrate_v1_to_v2' 'quantrocket zipline ingest' /codeload/\n",
    "\n",
    "# search for 'quantrocket zipline bundles' (replace with 'quantrocket zipline list-bundles')\n",
    "!grep -r --color --exclude-dir='.*' --exclude-dir='__pycache__' --exclude-dir='migrate_v1_to_v2' 'quantrocket zipline bundles' /codeload/\n",
    "\n",
    "# search for 'quantrocket zipline clean' (replace with 'quantrocket zipline drop-bundle')\n",
    "!grep -r --color --exclude-dir='.*' --exclude-dir='__pycache__' --exclude-dir='migrate_v1_to_v2' 'quantrocket zipline clean' /codeload/"
   ]
  },
  {
   "cell_type": "markdown",
   "metadata": {},
   "source": [
    "## Miscellaneous"
   ]
  },
  {
   "cell_type": "markdown",
   "metadata": {},
   "source": [
    "`ib_trading_calendars` is now `quantrocket_trading_calendars`."
   ]
  },
  {
   "cell_type": "code",
   "execution_count": null,
   "metadata": {},
   "outputs": [],
   "source": [
    "# search for 'ib_trading_calendars' (replace with 'quantrocket_trading_calendars')\n",
    "!grep -r --color --exclude-dir='.*' --exclude-dir='__pycache__' --exclude-dir='migrate_v1_to_v2' 'ib_trading_calendars' /codeload/"
   ]
  },
  {
   "cell_type": "markdown",
   "metadata": {},
   "source": [
    "***\n",
    "\n",
    "[Back to Introduction](Introduction.ipynb)"
   ]
  }
 ],
 "metadata": {
  "kernelspec": {
   "display_name": "Python 3",
   "language": "python",
   "name": "python3"
  },
  "language_info": {
   "codemirror_mode": {
    "name": "ipython",
    "version": 3
   },
   "file_extension": ".py",
   "mimetype": "text/x-python",
   "name": "python",
   "nbconvert_exporter": "python",
   "pygments_lexer": "ipython3",
   "version": "3.6.6"
  }
 },
 "nbformat": 4,
 "nbformat_minor": 4
}
