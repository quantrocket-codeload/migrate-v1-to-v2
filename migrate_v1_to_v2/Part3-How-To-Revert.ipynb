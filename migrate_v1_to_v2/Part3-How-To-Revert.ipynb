{
 "cells": [
  {
   "cell_type": "markdown",
   "metadata": {},
   "source": [
    "<img alt=\"QuantRocket logo\" src=\"https://www.quantrocket.com/assets/img/notebook-header-logo.png\">\n",
    "\n",
    "<a href=\"https://www.quantrocket.com/disclaimer/\">Disclaimer</a>"
   ]
  },
  {
   "cell_type": "markdown",
   "metadata": {},
   "source": [
    "# How to Revert to Version 1\n",
    "\n",
    "To revert to version 1:\n",
    "\n",
    "#### Code\n",
    "Checkout the v1 Git branch in a JupyterLab terminal:\n",
    "\n",
    "```shell\n",
    "git checkout v1\n",
    "```\n",
    "\n",
    "#### Databases\n",
    "No action is needed to revert your databases since the version 1 databases were not changed.\n",
    "\n",
    "#### Compose file\n",
    "Replace the version 2 Docker Compose file with the version 1 Compose file and bring up the version 1 deployment:\n",
    "\n",
    "```shell\n",
    "docker-compose up -d --remove-orphans\n",
    "```\n",
    "\n",
    "#### Settings\n",
    "\n",
    "IB Gateway credentials and S3 credentials are encrypted at rest in version 2 but were not encrypted in version 1. Version 2 automatically encrypts old version 1 credentials, which means the credentials will not be readable anymore by version 1. Therefore you should re-enter the credentials:"
   ]
  },
  {
   "cell_type": "code",
   "execution_count": null,
   "metadata": {},
   "outputs": [],
   "source": [
    "# For version 1\n",
    "from quantrocket.launchpad import set_credentials\n",
    "set_credentials(\"ibg1\", username=\"XXXX\", password=\"XXXX\", trading_mode=\"paper\")"
   ]
  },
  {
   "cell_type": "code",
   "execution_count": null,
   "metadata": {},
   "outputs": [],
   "source": [
    "from quantrocket.db import set_s3_config\n",
    "set_s3_config(access_key_id=\"XXXXX\", secret_access_key=\"XXXXXX\", bucket=\"your-bucket\")"
   ]
  },
  {
   "cell_type": "markdown",
   "metadata": {},
   "source": [
    "***\n",
    "\n",
    "[Back to Introduction](Introduction.ipynb)"
   ]
  }
 ],
 "metadata": {
  "kernelspec": {
   "display_name": "Python 3",
   "language": "python",
   "name": "python3"
  },
  "language_info": {
   "codemirror_mode": {
    "name": "ipython",
    "version": 3
   },
   "file_extension": ".py",
   "mimetype": "text/x-python",
   "name": "python",
   "nbconvert_exporter": "python",
   "pygments_lexer": "ipython3",
   "version": "3.6.6"
  }
 },
 "nbformat": 4,
 "nbformat_minor": 4
}
