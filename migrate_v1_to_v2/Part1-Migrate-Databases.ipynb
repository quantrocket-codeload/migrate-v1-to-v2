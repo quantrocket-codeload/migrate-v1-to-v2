{
 "cells": [
  {
   "cell_type": "markdown",
   "metadata": {},
   "source": [
    "<img alt=\"QuantRocket logo\" src=\"https://www.quantrocket.com/assets/img/notebook-header-logo.png\">\n",
    "\n",
    "<a href=\"https://www.quantrocket.com/disclaimer/\">Disclaimer</a>"
   ]
  },
  {
   "cell_type": "markdown",
   "metadata": {},
   "source": [
    "# Migrate Databases\n",
    "\n",
    "In version 1, all databases begin with `quantrocket.*`, while in version 2, all databases begin with `quantrocket.v2.*`. Thus, version 1 and version 2 databases can exist side-by-side. \n",
    "\n",
    "To populate version 2 databases, migration scripts are provided for the master database, the blotter databases, the account balances database, and selected fundamentals databases. For other databases, migration scripts are not provided. Instead, please re-collect any data you wish to use in version 2. \n",
    "\n",
    "Why are there migration scripts for some databases and not others? We have focused on providing migration scripts for databases containing historical records that can't be otherwise recovered.\n",
    "\n",
    "> NOTE: The migration scripts copy data from your version 1 databases to your version 2 databases. No changes are made to your version 1 databases."
   ]
  },
  {
   "cell_type": "markdown",
   "metadata": {},
   "source": [
    "## Migrate the master database\n",
    "\n",
    "Migrating the master database involves moving the records from the v1 database to the v2 database and assigning the correct sids.\n",
    "\n",
    "To do this, first collect one or more IBKR securities using the v2 API. This will trigger QuantRocket to load the complete mapping of IBKR conids to sids. The following command which simply loads EUR.USD can be used for this step. (You need not try to collect every listing in your v1 master database.)"
   ]
  },
  {
   "cell_type": "code",
   "execution_count": 1,
   "metadata": {},
   "outputs": [
    {
     "data": {
      "text/plain": [
       "{'ibg1': {'status': 'running'}}"
      ]
     },
     "execution_count": 1,
     "metadata": {},
     "output_type": "execute_result"
    }
   ],
   "source": [
    "from quantrocket.ibg import start_gateways\n",
    "start_gateways(wait=True)"
   ]
  },
  {
   "cell_type": "code",
   "execution_count": 2,
   "metadata": {},
   "outputs": [
    {
     "data": {
      "text/plain": [
       "{'status': 'the IBKR listing details will be collected asynchronously'}"
      ]
     },
     "execution_count": 2,
     "metadata": {},
     "output_type": "execute_result"
    }
   ],
   "source": [
    "from quantrocket.master import collect_ibkr_listings\n",
    "collect_ibkr_listings(exchanges=\"IDEALPRO\", symbols=\"EUR.USD\", sec_types=\"CASH\")"
   ]
  },
  {
   "cell_type": "markdown",
   "metadata": {},
   "source": [
    "Monitor flightlog for completion:\n",
    "\n",
    "```\n",
    "quantrocket.master: INFO Collecting IDEALPRO CASH listings from IBKR website (EUR.USD only)\n",
    "quantrocket.master: INFO Requesting details for 1 IDEALPRO listings found on IBKR website\n",
    "quantrocket.master: INFO Saved 1 IDEALPRO listings to securities master database\n",
    "quantrocket.master: INFO Building consolidated securities master from active vendors: ibkr\n",
    "quantrocket.master: INFO Completed building consolidated securities master with 1 records\n",
    "```"
   ]
  },
  {
   "cell_type": "markdown",
   "metadata": {},
   "source": [
    "Now you are ready to migrate the master database:"
   ]
  },
  {
   "cell_type": "code",
   "execution_count": 3,
   "metadata": {},
   "outputs": [
    {
     "name": "stdout",
     "output_type": "stream",
     "text": [
      "copied v1 master to v2\n"
     ]
    }
   ],
   "source": [
    "from codeload.migrate_v1_to_v2.migratedb import migrate_master\n",
    "migrate_master()"
   ]
  },
  {
   "cell_type": "markdown",
   "metadata": {},
   "source": [
    "The data is now loaded into various IBKR tables in the securities master database, but now QuantRocket needs to rebuild the consolidated master table so the records will be available via the API. To trigger this process, simply collect any IBKR listing again:"
   ]
  },
  {
   "cell_type": "code",
   "execution_count": 4,
   "metadata": {},
   "outputs": [
    {
     "data": {
      "text/plain": [
       "{'status': 'the IBKR listing details will be collected asynchronously'}"
      ]
     },
     "execution_count": 4,
     "metadata": {},
     "output_type": "execute_result"
    }
   ],
   "source": [
    "collect_ibkr_listings(exchanges=\"IDEALPRO\", symbols=\"EUR.USD\", sec_types=\"CASH\")"
   ]
  },
  {
   "cell_type": "markdown",
   "metadata": {},
   "source": [
    "Monitor flightlog for completion. This time you should see that more records are included in the consolidated master, reflecting the number of migrated listings:\n",
    "\n",
    "```\n",
    "...\n",
    "quantrocket.master: INFO Completed building consolidated securities master with 42990 records\n",
    "```"
   ]
  },
  {
   "cell_type": "markdown",
   "metadata": {},
   "source": [
    "You can now query some of the migrated data: "
   ]
  },
  {
   "cell_type": "code",
   "execution_count": 5,
   "metadata": {},
   "outputs": [
    {
     "name": "stdout",
     "output_type": "stream",
     "text": [
      "---\n",
      "  - \n",
      "    Sid: \"FIBBG000B9XRY4\"\n",
      "    Symbol: \"AAPL\"\n",
      "    Exchange: \"XNAS\"\n",
      "    Currency: \"USD\"\n",
      "    SecType: \"STK\"\n",
      "    Etf: 0\n",
      "    Timezone: \"America/New_York\"\n",
      "    Name: \"APPLE INC\"\n",
      "    PriceMagnifier: 1\n",
      "    Multiplier: 1\n",
      "    Delisted: null\n",
      "    DateDelisted: null\n",
      "    LastTradeDate: null\n",
      "    RolloverDate: null\n",
      "\n"
     ]
    }
   ],
   "source": [
    "!quantrocket master get -s 'AAPL' -e 'NASDAQ' -j | json2yml"
   ]
  },
  {
   "cell_type": "markdown",
   "metadata": {},
   "source": [
    "By default core fields are returned in version 2. Additional IBKR fields are still available on request: "
   ]
  },
  {
   "cell_type": "code",
   "execution_count": 6,
   "metadata": {},
   "outputs": [
    {
     "name": "stdout",
     "output_type": "stream",
     "text": [
      "---\n",
      "  - \n",
      "    Sid: \"FIBBG000B9XRY4\"\n",
      "    ibkr_AggGroup: 1\n",
      "    ibkr_Category: \"Computers\"\n",
      "    ibkr_ComboLegs: null\n",
      "    ibkr_ConId: 265598\n",
      "    ibkr_ContractMonth: null\n",
      "    ibkr_Currency: \"USD\"\n",
      "    ibkr_Cusip: null\n",
      "    ibkr_DateDelisted: null\n",
      "    ibkr_Delisted: 0\n",
      "    ibkr_Etf: 0\n",
      "    ibkr_EvMultiplier: 0\n",
      "    ibkr_EvRule: null\n",
      "    ibkr_Industry: \"Computers\"\n",
      "    ibkr_Isin: null\n",
      "    ibkr_LastTradeDate: null\n",
      "    ibkr_LocalSymbol: \"AAPL\"\n",
      "    ibkr_LongName: \"APPLE INC\"\n",
      "    ibkr_MarketName: \"NMS\"\n",
      "    ibkr_MarketRuleIds: \"26,26,26,26,26,26,26,26,26,26,26,26,26\"\n",
      "    ibkr_MdSizeMultiplier: 100\n",
      "    ibkr_MinTick: 0.01\n",
      "    ibkr_Multiplier: null\n",
      "    ibkr_PriceMagnifier: 1\n",
      "    ibkr_PrimaryExchange: \"NASDAQ\"\n",
      "    ibkr_RealExpirationDate: null\n",
      "    ibkr_Right: null\n",
      "    ibkr_SecType: \"STK\"\n",
      "    ibkr_Sector: \"Technology\"\n",
      "    ibkr_Strike: 0\n",
      "    ibkr_Symbol: \"AAPL\"\n",
      "    ibkr_Timezone: \"America/New_York\"\n",
      "    ibkr_TradingClass: \"NMS\"\n",
      "    ibkr_UnderConId: 0\n",
      "    ibkr_UnderSecType: null\n",
      "    ibkr_UnderSymbol: null\n",
      "    ibkr_ValidExchanges: \"SMART,AMEX,NYSE,CHX,ARCA,ISLAND,DRCTEDGE,NSX,BEX,BATS,EDGEA,BYX,PSX\"\n",
      "\n"
     ]
    }
   ],
   "source": [
    "!quantrocket master get -s 'AAPL' -e 'NASDAQ' --fields 'ibkr*' -j | json2yml"
   ]
  },
  {
   "cell_type": "markdown",
   "metadata": {},
   "source": [
    "#### Notice to Sharadar subscribers\n",
    "\n",
    "The above command migrates the data in `quantrocket.master.main.sqlite` only. There is no separate Sharadar master in version 2. If you are a Sharadar susbcriber and created universes in `quantrocket.master.sharadar.sqlite`, please follow the usage guide to re-collect Sharadar listings, then re-create any Sharadar universes you may require. "
   ]
  },
  {
   "cell_type": "markdown",
   "metadata": {},
   "source": [
    "## Migrate the blotter and account databases\n",
    "\n",
    "Next, migrate the blotter databases:\n"
   ]
  },
  {
   "cell_type": "code",
   "execution_count": 7,
   "metadata": {},
   "outputs": [
    {
     "name": "stdout",
     "output_type": "stream",
     "text": [
      "copied v1 orders to v2\n",
      "copied v1 order errors to v2\n",
      "copied v1 order statuses to v2\n",
      "copied v1 executions and positions to v2\n"
     ]
    }
   ],
   "source": [
    "from codeload.migrate_v1_to_v2.migratedb import migrate_blotter\n",
    "migrate_blotter()"
   ]
  },
  {
   "cell_type": "markdown",
   "metadata": {},
   "source": [
    "And the account balance database:"
   ]
  },
  {
   "cell_type": "code",
   "execution_count": 8,
   "metadata": {},
   "outputs": [
    {
     "name": "stdout",
     "output_type": "stream",
     "text": [
      "copied v1 account balances to v2\n"
     ]
    }
   ],
   "source": [
    "from codeload.migrate_v1_to_v2.migratedb import migrate_account_balances\n",
    "migrate_account_balances()"
   ]
  },
  {
   "cell_type": "markdown",
   "metadata": {},
   "source": [
    "NOTE: the exchange rates database (`quantrocket.v2.account.rates.sqlite`) will automatically collect historical exchange rates. The PNL database (`quantrocket.v2.blotter.pnl.sqlite`) will be automatically generated from the executions database. No action is required."
   ]
  },
  {
   "cell_type": "markdown",
   "metadata": {},
   "source": [
    "## Fundamental Data\n",
    "\n",
    "For fundamental data, migration scripts are provided for the Reuters estimates database and the Wall Street Horizon database. Both of these databases provide a rolling window of data or forward-looking data, which means that without a migration script some history would be lost. This is also true of the Reuters financials database, however we have not provided a migration script for the Reuters financials database due to the additional complexity of table sharding used in the database. \n",
    "\n",
    "For other databases (Sharadar, IBKR shortable shares, IBKR borrow fees), please re-collect the data as needed. \n",
    "\n",
    "### Reuters estimates\n"
   ]
  },
  {
   "cell_type": "code",
   "execution_count": 9,
   "metadata": {},
   "outputs": [
    {
     "name": "stdout",
     "output_type": "stream",
     "text": [
      "copied v1 Reuters estimates to v2\n"
     ]
    }
   ],
   "source": [
    "from codeload.migrate_v1_to_v2.migratedb import migrate_reuters_estimates\n",
    "migrate_reuters_estimates()"
   ]
  },
  {
   "cell_type": "markdown",
   "metadata": {},
   "source": [
    "### Wall Street Horizon Earnings Calendar"
   ]
  },
  {
   "cell_type": "code",
   "execution_count": 10,
   "metadata": {},
   "outputs": [
    {
     "name": "stdout",
     "output_type": "stream",
     "text": [
      "copied v1 WSH calendar to v2\n"
     ]
    }
   ],
   "source": [
    "from codeload.migrate_v1_to_v2.migratedb import migrate_wsh_calendar\n",
    "migrate_wsh_calendar()"
   ]
  },
  {
   "cell_type": "markdown",
   "metadata": {},
   "source": [
    "## Historical and real-time data\n",
    "\n",
    "We have not provided migration scripts for historical databases or real-time databases. For historical data, please follow the usage guide to re-collect any historical data you wish to use in version 2. For real-time databases, please create new databases and begin collecting real-time data anew in version 2.\n",
    "\n",
    "We understand that real-time data cannot be backfilled in this manner and also that historical data for certain expired futures and options contracts you collected in v1 may no longer be available from IBKR. We apologize for the inconvenience of not carrying this data over to version 2. The numerous sharding options used by historical databases, and the complex TimescaleDB database structure used by real-time databases, would have made migration of these databases more complex."
   ]
  },
  {
   "cell_type": "markdown",
   "metadata": {},
   "source": [
    "## Purging version 1 databases\n",
    "\n",
    "Later, if you are happy with the version 2 migration and would like to get rid of old version 1 databases to free up disk space, please do so from a terminal, as the version 2 software will not \"see\" the databases and thus they cannot be deleted via the API. For example, to delete the old exchange rates database:\n",
    "\n",
    "```shell\n",
    "rm /var/lib/quantrocket/quantrocket.account.rates.sqlite\n",
    "```\n",
    "\n",
    "NOTE: for sharded databases, which utilize a directory structure, you must use `rm -r` to recursively delete the directory. Be careful with `rm -r`!"
   ]
  },
  {
   "cell_type": "markdown",
   "metadata": {},
   "source": [
    "***\n",
    "\n",
    "## *Next Up*\n",
    "\n",
    "Part 2: [Make Code Changes](Part2-Code-Changes.ipynb)"
   ]
  }
 ],
 "metadata": {
  "kernelspec": {
   "display_name": "Python 3",
   "language": "python",
   "name": "python3"
  },
  "language_info": {
   "codemirror_mode": {
    "name": "ipython",
    "version": 3
   },
   "file_extension": ".py",
   "mimetype": "text/x-python",
   "name": "python",
   "nbconvert_exporter": "python",
   "pygments_lexer": "ipython3",
   "version": "3.6.6"
  }
 },
 "nbformat": 4,
 "nbformat_minor": 4
}
