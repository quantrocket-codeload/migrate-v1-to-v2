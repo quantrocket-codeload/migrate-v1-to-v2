{
 "cells": [
  {
   "cell_type": "markdown",
   "metadata": {},
   "source": [
    "<img alt=\"QuantRocket logo\" src=\"https://www.quantrocket.com/assets/img/notebook-header-logo.png\">\n",
    "\n",
    "<a href=\"https://www.quantrocket.com/disclaimer/\">Disclaimer</a>"
   ]
  },
  {
   "cell_type": "markdown",
   "metadata": {},
   "source": [
    "# Introduction\n",
    "\n",
    "Upgrading from version 1 to version 2 has two main parts: migrating your databases, and updating your code to reflect version 2 API changes. This tutorial guides you through the process, providing helper scripts and instructions for reverting back to version 1 if anything goes wrong."
   ]
  },
  {
   "cell_type": "markdown",
   "metadata": {},
   "source": [
    "To use the migration guide, you should have started with your version 1 deployment and updated it in place to version 2. The following code double checks:"
   ]
  },
  {
   "cell_type": "code",
   "execution_count": null,
   "metadata": {},
   "outputs": [],
   "source": [
    "![ ! -f /var/lib/quantrocket/quantrocket.master.main.sqlite ] && echo 'oops, no version 1 database found, did you start with version 1 and update in place to version 2?'\n",
    "![ ! -f /var/lib/quantrocket/quantrocket.v2.master.main.sqlite ] && echo 'oops, no version 2 database found, please update to version 2'\n",
    "![ -f /var/lib/quantrocket/quantrocket.master.main.sqlite ] && [ -f /var/lib/quantrocket/quantrocket.v2.master.main.sqlite ] && echo 'looks like you are all set!'"
   ]
  },
  {
   "cell_type": "markdown",
   "metadata": {},
   "source": [
    "* Part 1: [Migrate databases](Part1-Migrate-Databases.ipynb)\n",
    "* Part 2: [Make code changes](Part2-Code-Changes.ipynb)\n",
    "\n",
    "[How to revert to version 1](Part3-How-To-Revert.ipynb)"
   ]
  }
 ],
 "metadata": {
  "kernelspec": {
   "display_name": "Python 3",
   "language": "python",
   "name": "python3"
  },
  "language_info": {
   "codemirror_mode": {
    "name": "ipython",
    "version": 3
   },
   "file_extension": ".py",
   "mimetype": "text/x-python",
   "name": "python",
   "nbconvert_exporter": "python",
   "pygments_lexer": "ipython3",
   "version": "3.6.6"
  }
 },
 "nbformat": 4,
 "nbformat_minor": 4
}
